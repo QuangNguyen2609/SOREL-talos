{
 "cells": [
  {
   "cell_type": "code",
   "execution_count": 1,
   "metadata": {},
   "outputs": [],
   "source": [
    "import pandas as pd\n",
    "import numpy as np\n",
    "\n",
    "# df = pd.read_csv('RESULTS/FFNN/results.csv')\n",
    "# df_bnn = pd.read_csv('RESULTS/BNN_5/results.csv')\n",
    "# df_elbo = pd.read_csv('RESULTS/ELBO/results.csv')\n",
    "# df_elbo_var4 = pd.read_csv('RESULTS/ELBO_var2_e10/results.csv')"
   ]
  },
  {
   "cell_type": "markdown",
   "metadata": {},
   "source": [
    "## Measure Uncertainty "
   ]
  },
  {
   "cell_type": "code",
   "execution_count": 2,
   "metadata": {},
   "outputs": [],
   "source": [
    "def get_fpr(y_true, y_pred):\n",
    "    nbenign = (y_true == 0).sum()\n",
    "    nfalse = (y_pred[y_true == 0] == 1).sum()\n",
    "    return nfalse / float(nbenign)\n",
    "\n",
    "\n",
    "def find_threshold(y_true, y_pred, fpr_target):\n",
    "    thresh = 0.0\n",
    "    fpr = get_fpr(y_true, y_pred > thresh)\n",
    "    while fpr > fpr_target and thresh < 1.0:\n",
    "        thresh += 0.0001\n",
    "        fpr = get_fpr(y_true, y_pred > thresh)\n",
    "    return thresh, fpr"
   ]
  },
  {
   "cell_type": "markdown",
   "metadata": {},
   "source": [
    "### FFNN"
   ]
  },
  {
   "cell_type": "code",
   "execution_count": 3,
   "metadata": {},
   "outputs": [
    {
     "name": "stdout",
     "output_type": "stream",
     "text": [
      "FFNN Seed  Model Performance at 1% FPR:\n",
      "Threshold: 0.5415\n",
      "False Positive Rate: 1.000%\n",
      "False Negative Rate: 2.709%\n",
      "Detection Rate: 97.29138585147088%\n",
      "\n"
     ]
    }
   ],
   "source": [
    "threshold, fpr = find_threshold(df.label_malware, df.pred_malware, 0.01)\n",
    "fnr = (df.pred_malware[df.label_malware == 1] < threshold).sum() / float((df.label_malware == 1).sum())\n",
    "print(f\"FFNN Seed  Model Performance at 1% FPR:\")\n",
    "print(\"Threshold: {:.4f}\".format(threshold))\n",
    "print(\"False Positive Rate: {:.3f}%\".format(fpr * 100))\n",
    "print(\"False Negative Rate: {:.3f}%\".format(fnr * 100))\n",
    "print(\"Detection Rate: {}%\".format(100 - fnr * 100))\n",
    "print()"
   ]
  },
  {
   "cell_type": "markdown",
   "metadata": {},
   "source": [
    "### ELBO"
   ]
  },
  {
   "cell_type": "code",
   "execution_count": 22,
   "metadata": {},
   "outputs": [
    {
     "name": "stdout",
     "output_type": "stream",
     "text": [
      "FFNN Seed  Model Performance at 1% FPR:\n",
      "Threshold: 0.9957\n",
      "False Positive Rate: 0.993%\n",
      "False Negative Rate: 49.529%\n",
      "Detection Rate: 50.471108066751825%\n",
      "\n"
     ]
    }
   ],
   "source": [
    "threshold, fpr = find_threshold(df_elbo_var4.label_malware, df_elbo_var4.pred_malware, 0.01)\n",
    "fnr = (df_elbo_var4.pred_malware[df_elbo_var4.label_malware == 1] < threshold).sum() / float((df_elbo_var4.label_malware == 1).sum())\n",
    "print(f\"FFNN Seed  Model Performance at 1% FPR:\")\n",
    "print(\"Threshold: {:.4f}\".format(threshold))\n",
    "print(\"False Positive Rate: {:.3f}%\".format(fpr * 100))\n",
    "print(\"False Negative Rate: {:.3f}%\".format(fnr * 100))\n",
    "print(\"Detection Rate: {}%\".format(100 - fnr * 100))\n",
    "print()"
   ]
  },
  {
   "cell_type": "markdown",
   "metadata": {},
   "source": [
    "### BNN"
   ]
  },
  {
   "cell_type": "code",
   "execution_count": null,
   "metadata": {},
   "outputs": [],
   "source": [
    "threshold, fpr = find_threshold(df_bnn.label_malware, df_bnn.pred_malware, 0.01)\n",
    "fnr = (df_bnn.pred_malware[df_bnn.label_malware == 1] < threshold).sum() / float((df_bnn.label_malware == 1).sum())\n",
    "print(f\"FFNN Seed  Model Performance at 1% FPR:\")\n",
    "print(\"Threshold: {:.4f}\".format(threshold))\n",
    "print(\"False Positive Rate: {:.3f}%\".format(fpr * 100))\n",
    "print(\"False Negative Rate: {:.3f}%\".format(fnr * 100))\n",
    "print(\"Detection Rate: {}%\".format(100 - fnr * 100))\n",
    "print()"
   ]
  },
  {
   "cell_type": "markdown",
   "metadata": {},
   "source": [
    "## Metrics"
   ]
  },
  {
   "cell_type": "markdown",
   "metadata": {},
   "source": [
    "### ELBO"
   ]
  },
  {
   "cell_type": "code",
   "execution_count": 3,
   "metadata": {},
   "outputs": [],
   "source": [
    "from sklearn.metrics import accuracy_score, roc_auc_score, roc_curve, auc, precision_score, recall_score, f1_score"
   ]
  },
  {
   "cell_type": "code",
   "execution_count": 21,
   "metadata": {},
   "outputs": [
    {
     "name": "stdout",
     "output_type": "stream",
     "text": [
      "Accuracy for FFNN  is 0.856118\n",
      "F1 Score FFNN : 0.805107558562855\n",
      "Precision FFNN : 0.7179836849637332Recall FFNN : 0.9162956353785254\n",
      "ROC AUC FFNN : 0.9487055652848646\n"
     ]
    }
   ],
   "source": [
    "df_elbo_var4['prediction'] = np.where(df_elbo_var4['pred_malware'] >= 0.5, 1, 0)\n",
    "acc = accuracy_score(df_elbo_var4.label_malware, df_elbo_var4.prediction)\n",
    "print(f\"Accuracy for FFNN  is {acc:.6f}\")\n",
    "print(f\"F1 Score FFNN : {f1_score(df_elbo_var4.label_malware, df_elbo_var4.prediction)}\")\n",
    "print(f\"Precision FFNN : {precision_score(df_elbo_var4.label_malware, df_elbo_var4.prediction)}\"\n",
    "        f\"Recall FFNN : {recall_score(df_elbo_var4.label_malware, df_elbo_var4.prediction)}\")\n",
    "print(f\"ROC AUC FFNN : {roc_auc_score(df_elbo_var4.label_malware, df_elbo_var4.prediction)}\")"
   ]
  },
  {
   "cell_type": "markdown",
   "metadata": {},
   "source": [
    "### FFNN"
   ]
  },
  {
   "cell_type": "code",
   "execution_count": null,
   "metadata": {},
   "outputs": [],
   "source": [
    "df['prediction'] = np.where(df['pred_malware'] >= 0.5, 1, 0)\n",
    "acc = accuracy_score(df.label_malware, df.prediction)\n",
    "print(f\"Accuracy for FFNN  is {acc:.6f}\")\n",
    "print(f\"F1 Score FFNN : {f1_score(df.label_malware, df.prediction)}\")\n",
    "print(f\"Precision FFNN : {precision_score(df.label_malware, df.prediction)}\"\n",
    "        f\"Recall FFNN : {recall_score(df.label_malware, df.prediction)}\")\n",
    "print(f\"ROC AUC FFNN : {roc_auc_score(df.label_malware, df.pred_malware)}\")"
   ]
  },
  {
   "cell_type": "markdown",
   "metadata": {},
   "source": [
    "### BNN"
   ]
  },
  {
   "cell_type": "code",
   "execution_count": 5,
   "metadata": {},
   "outputs": [
    {
     "name": "stdout",
     "output_type": "stream",
     "text": [
      "Accuracy for FFNN  is 0.976597\n",
      "F1 Score FFNN : 0.9640746718734162\n",
      "Precision FFNN : 0.9599931790407079Recall FFNN : 0.9681910185194712\n",
      "ROC AUC FFNN : 0.9744112364172245\n"
     ]
    }
   ],
   "source": [
    "df_bnn['prediction'] = np.where(df_bnn['pred_malware'] >= 0.5, 1, 0)\n",
    "acc = accuracy_score(df_bnn.label_malware, df_bnn.prediction)\n",
    "print(f\"Accuracy for FFNN  is {acc:.6f}\")\n",
    "print(f\"F1 Score FFNN : {f1_score(df_bnn.label_malware, df_bnn.prediction)}\")\n",
    "print(f\"Precision FFNN : {precision_score(df_bnn.label_malware, df_bnn.prediction)}\"\n",
    "        f\"Recall FFNN : {recall_score(df_bnn.label_malware, df_bnn.prediction)}\")\n",
    "print(f\"ROC AUC FFNN : {roc_auc_score(df_bnn.label_malware, df_bnn.prediction)}\")"
   ]
  },
  {
   "cell_type": "code",
   "execution_count": null,
   "metadata": {},
   "outputs": [],
   "source": []
  }
 ],
 "metadata": {
  "kernelspec": {
   "display_name": "sorel",
   "language": "python",
   "name": "python3"
  },
  "language_info": {
   "codemirror_mode": {
    "name": "ipython",
    "version": 3
   },
   "file_extension": ".py",
   "mimetype": "text/x-python",
   "name": "python",
   "nbconvert_exporter": "python",
   "pygments_lexer": "ipython3",
   "version": "3.10.6"
  }
 },
 "nbformat": 4,
 "nbformat_minor": 2
}
